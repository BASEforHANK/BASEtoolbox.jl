{
 "cells": [
  {
   "cell_type": "markdown",
   "id": "0",
   "metadata": {},
   "source": [
    "# Understanding Steady-State Block"
   ]
  },
  {
   "cell_type": "markdown",
   "id": "1",
   "metadata": {},
   "source": [
    "The model will have several parts. To make it easily digestable, we provide here a focused overview of the first component of the model: the steady state block.\n",
    "$~$\n",
    "\n",
    "The top-level function in the steady-state block is `call_find_steadystate`. This function will take as an argument a `struct` of parameters, which is propagated through the many sub-functions to generate the steady state of the model.\n",
    "$~$\n",
    "\n",
    "In trying to understand the steady-state block and its code, this jupyter notebook will propose different parameterizations and see how it affects the steady-state of the model. The notebook will also provide some intuition on the model mechanisms and functions at play. \n",
    "$~$\n",
    "\n",
    "Below, I provide a roadmap on what to expect in this notebook.\n",
    "$~$\n",
    "\n",
    "First part of the notebook includes:\n",
    "- Preliminairies (defining all relevant paths, generating structs, importing packages)\n",
    "- Defining some functions we will need for comparing steady-states\n",
    "- Finding the steady state \n",
    "- Plotting distributions of liquid assets, illiquid assets, and income for the baseline parameterization\n",
    "$~$\n",
    "\n",
    "Second part of the notebook will be on changing one parameter and seeing the effect of this change on the steady-state.\n",
    "$~$\n",
    "\n",
    "In the first block (a), we make a change to the household's preferences, answering questions such as: \n",
    "- What if there is a change to the risk aversion parameter?\n",
    "- ... to the discount factor?\n",
    "$~$\n",
    "\n",
    "Second block (b) will be on the income process, to answer questions such as:\n",
    "- What if income were less persistent?\n",
    "- What if the standard deviation of the income shocks increase?\n",
    "- What if the tax system becomes more progressive?\n",
    "$~$\n",
    "\n",
    "Last block (c) will be on the technology, to answer questions such as:\n",
    "- What would greater depreciation imply for households?\n",
    "- What if there is a change wage markups?\n",
    "$~$\n",
    "\n",
    "In the end, we will compare the resulting distributions side by side and provide some model intuition on what we see."
   ]
  },
  {
   "cell_type": "markdown",
   "id": "2",
   "metadata": {},
   "source": [
    "# 1.1 Preliminairies"
   ]
  },
  {
   "cell_type": "code",
   "execution_count": null,
   "id": "3",
   "metadata": {},
   "outputs": [],
   "source": [
    "using PrettyTables, Printf;\n",
    "\n",
    "## ------------------------------------------------------------------------------------------\n",
    "## Header: set up paths, pre-process user inputs, load module\n",
    "## ------------------------------------------------------------------------------------------\n",
    "\n",
    "root_dir = replace(Base.current_project(), \"Project.toml\" => \"\");\n",
    "cd(root_dir);\n",
    "\n",
    "# set up paths for the project\n",
    "paths = Dict(\n",
    "    \"root\" => root_dir,\n",
    "    \"src\" => joinpath(root_dir, \"src\"),\n",
    "    \"bld\" => joinpath(root_dir, \"bld\"),\n",
    "    \"src_example\" => @__DIR__,\n",
    "    \"bld_example\" => replace(@__DIR__, \"examples\" => \"bld\") * \"_noestim\",\n",
    ");\n",
    "\n",
    "# create bld directory for the current example\n",
    "mkpath(paths[\"bld_example\"]);\n",
    "\n",
    "# pre-process user inputs for model setup\n",
    "include(paths[\"src\"] * \"/Preprocessor/PreprocessInputs.jl\");\n",
    "include(paths[\"src\"] * \"/BASEforHANK.jl\");\n",
    "using .BASEforHANK;\n",
    "\n",
    "# set BLAS threads to the number of Julia threads, prevents grabbing all\n",
    "BASEforHANK.LinearAlgebra.BLAS.set_num_threads(Threads.nthreads());\n",
    "\n",
    "## ------------------------------------------------------------------------------------------\n",
    "## Initialize: set up model parameters, priors, and estimation settings\n",
    "## ------------------------------------------------------------------------------------------\n",
    "\n",
    "# model parameters and priors\n",
    "# model parameters\n",
    "m_par = ModelParameters();\n",
    "e_set = BASEforHANK.e_set;\n",
    "\n",
    "# set some paths\n",
    "@set! e_set.save_mode_file = paths[\"bld_example\"] * \"/HANK_mode.jld2\";\n",
    "@set! e_set.mode_start_file = paths[\"src_example\"] * \"/Data/par_final_dict.txt\";\n",
    "\n",
    "# fix seed for random number generation\n",
    "BASEforHANK.Random.seed!(e_set.seed);"
   ]
  },
  {
   "cell_type": "markdown",
   "id": "4",
   "metadata": {},
   "source": [
    "# 1.2 Functions we will need"
   ]
  },
  {
   "cell_type": "code",
   "execution_count": null,
   "id": "5",
   "metadata": {},
   "outputs": [],
   "source": [
    "using LaTeXStrings\n",
    "\n",
    "function optimal_layout(num_subplots::Int)\n",
    "    rows = floor(Int, sqrt(num_subplots))\n",
    "    cols = ceil(Int, num_subplots / rows)\n",
    "    return rows, cols\n",
    "end\n",
    "\n",
    "\n",
    "function plot_steady_state_comparisons(ss_dict, income_grid, liquid_grid, illiquid_grid)\n",
    "    n_structs = length(ss_dict)\n",
    "    n_rows, n_cols = optimal_layout(n_structs)\n",
    "\n",
    "    p1 = plot(layout=(n_rows, n_cols), size=(1400, 600), margin=10 * Plots.mm)\n",
    "    p2 = plot(layout=(n_rows, n_cols), size=(1400, 600), margin=10 * Plots.mm)\n",
    "    p3 = plot(layout=(n_rows, n_cols), size=(1400, 600), margin=10 * Plots.mm)\n",
    "    p4 = plot(layout=(n_rows, n_cols))\n",
    "\n",
    "    i = 1\n",
    "    for (name, ss_full) in ss_dict\n",
    "\n",
    "        # Compute distributions\n",
    "        income_distribution = sum(ss_full.distrSS, dims=(1, 2))[:]\n",
    "        liquid_distribution = sum(ss_full.distrSS, dims=(2, 3))[:]\n",
    "        illiquid_distribution = sum(ss_full.distrSS, dims=(1, 3))[:]\n",
    "        joint_liq_illiq_distribution = sum(ss_full.distrSS, dims=3)[:, :]\n",
    "\n",
    "        # Create individual subplots for each steady state\n",
    "        plot!(p1,\n",
    "            income_grid,\n",
    "            income_distribution,\n",
    "            xformatter=:latex,\n",
    "            yformatter=:latex,\n",
    "            seriestype=:bar,\n",
    "            label=L\"\\textrm{%$(name)}\",\n",
    "            xlabel=L\"\\textrm{Income}\",\n",
    "            ylabel=L\"\\textrm{Probability}\",\n",
    "            legend=:topright,\n",
    "            subplot=i,\n",
    "        )\n",
    "\n",
    "        plot!(p2,\n",
    "            liquid_grid,\n",
    "            liquid_distribution,\n",
    "            seriestype=:bar,\n",
    "            label=L\"\\textrm{%$(name)}\",\n",
    "            xlabel=L\"\\textrm{Liquid \\,\\, Assets}\",\n",
    "            ylabel=L\"\\textrm{Probability}\",\n",
    "            legend=:topright,\n",
    "            subplot=i,\n",
    "            xformatter=:latex,\n",
    "            yformatter=:latex\n",
    "        )\n",
    "\n",
    "        plot!(p3,\n",
    "            illiquid_grid,\n",
    "            illiquid_distribution,\n",
    "            seriestype=:bar,\n",
    "            label=L\"\\textrm{%$(name)}\",\n",
    "            xlabel=L\"\\textrm{Illiquid \\,\\, Assets}\",\n",
    "            ylabel=L\"\\textrm{Probability}\",\n",
    "            legend=:topright,\n",
    "            subplot=i,\n",
    "            xformatter=:latex,\n",
    "            yformatter=:latex\n",
    "        )\n",
    "\n",
    "        surface!(p4, liquid_grid, illiquid_grid, joint_liq_illiq_distribution,\n",
    "            xlabel=L\"\\textrm{Liquid \\,\\, Assets}\",\n",
    "            ylabel=L\"\\textrm{Illiquid \\,\\, Assets}\",\n",
    "            zlabel=L\"\\textrm{Probability \\,\\, Density}\",\n",
    "            xformatter=:latex,\n",
    "            yformatter=:latex,\n",
    "            zformatter=:latex,\n",
    "            legend=false,\n",
    "            camera=(75, 20),  # Viewing angle\n",
    "            size=(1400, 600),\n",
    "            colorbar=false,\n",
    "            color=:viridis,\n",
    "            subplot=i,\n",
    "        )\n",
    "\n",
    "        i += 1\n",
    "    end\n",
    "\n",
    "    return p1, p2, p3, p4\n",
    "end"
   ]
  },
  {
   "cell_type": "markdown",
   "id": "6",
   "metadata": {},
   "source": [
    "# 1.3 Finding the steady state"
   ]
  },
  {
   "cell_type": "code",
   "execution_count": null,
   "id": "7",
   "metadata": {},
   "outputs": [],
   "source": [
    "@printf \"Calculating the steady state\\n\";\n",
    "ss_dict = Dict()\n",
    "ss_dict[\"baseline\"] = call_find_steadystate(m_par);"
   ]
  },
  {
   "cell_type": "markdown",
   "id": "8",
   "metadata": {},
   "source": [
    "# 1.4 Plotting Distributions\n",
    "\n",
    "The idiosyncratic states are:\n",
    "1. `b`: liquid assets,\n",
    "2. `k`: illiquid assets,\n",
    "3. `h`: labor income.\n",
    "\n",
    "$~~~~$\n",
    "\n",
    "Computing the (marginal) distribution of, for example, income with then amount to integrating out the other states, liquid and illiquid assets, and plotting that along the income grid.\n",
    "\n",
    "$~$\n",
    "Below are the distributions from the baseline case."
   ]
  },
  {
   "cell_type": "code",
   "execution_count": null,
   "id": "9",
   "metadata": {},
   "outputs": [],
   "source": [
    "using Plots\n",
    "\n",
    "# Defining grids\n",
    "income_grid = log.(ss_dict[\"baseline\"].n_par.grid_h .+ 1)\n",
    "liquid_grid = sign.(ss_dict[\"baseline\"].n_par.grid_b) .* log.(abs.(ss_dict[\"baseline\"].n_par.grid_b) .+ 1)\n",
    "illiquid_grid = sign.(ss_dict[\"baseline\"].n_par.grid_k) .* log.(abs.(ss_dict[\"baseline\"].n_par.grid_k) .+ 1)\n",
    "\n",
    "p1, p2, p3, p4 = plot_steady_state_comparisons(ss_dict, income_grid, liquid_grid, illiquid_grid)\n",
    "\n",
    "display(plot(p2))\n",
    "display(plot(p3))\n",
    "display(plot(p4))"
   ]
  },
  {
   "cell_type": "markdown",
   "id": "10",
   "metadata": {},
   "source": [
    "# 2 Comparative Statics\n",
    "\n",
    "We will go through different model blocks, each presented as its own subsection, and change some parameter values within each block. \n",
    "\n",
    "To facilitate comparisons across different parameterizations, we are going to store the different steady states and plot. \n",
    "\n",
    "To make a parameter change, we just need to do the following:\n",
    "\n",
    "`@set! m_par.some_parameter = new_value`"
   ]
  },
  {
   "cell_type": "markdown",
   "id": "11",
   "metadata": {},
   "source": [
    "### 2.1 What if household preferences change? \n",
    "\n",
    "In the model, there are four parameters that govern household preferences:\n",
    "- risk aversion: ξ = 4.0\n",
    "- inverse Frisch elasticity: γ = 2.0\n",
    "- discount factor: β = 0.98255 \n",
    "- adjustment probability: λ = 0.065 \n",
    "$~~~~$\n",
    "\n",
    "Below, we are going to see what happens in the model if you increase the **risk aversion parameter** by 50\\% and then decrease by 50\\% from baseline (from `4.0` to `6.0` to `2.0`)."
   ]
  },
  {
   "cell_type": "code",
   "execution_count": null,
   "id": "12",
   "metadata": {},
   "outputs": [],
   "source": [
    "# Running the different scenarios\n",
    "@set! m_par.ξ = 6.0\n",
    "ss_dict[\"50p Increase in RA\"] = call_find_steadystate(m_par);\n",
    "\n",
    "@set! m_par.ξ = 2.0\n",
    "ss_dict[\"50p Decrease in RA\"] = call_find_steadystate(m_par);"
   ]
  },
  {
   "cell_type": "markdown",
   "id": "13",
   "metadata": {},
   "source": [
    "### 2.2 What if income were less persistent?\n",
    "\n",
    "In the model, there are four main parameters that govern the income process of households:\n",
    "- autocorrelation income shock: ρ_h = 0.98\n",
    "- std of income shocks (steady state): σ_h = 0.12\n",
    "- probability to return worker: ι = 1 / 16\n",
    "- probability to become entrepreneur: ζ = 1 / 4500\n",
    "$~~~~$\n",
    "\n",
    "Below, we are going to see what happens in the model if you decrease the **persistence parameter** by 25\\% and then decrease by 50\\% from baseline (from `0.98` to `0.75` to `0.50`).\n"
   ]
  },
  {
   "cell_type": "code",
   "execution_count": null,
   "id": "14",
   "metadata": {},
   "outputs": [],
   "source": [
    "# Running the different scenarios\n",
    "@set! m_par.ρ_h = 0.75\n",
    "ss_dict[\"25p Decrease in Rho\"] = call_find_steadystate(m_par);\n",
    "\n",
    "@set! m_par.ρ_h = 0.5\n",
    "ss_dict[\"50p Decrease in Rho\"] = call_find_steadystate(m_par);"
   ]
  },
  {
   "cell_type": "markdown",
   "id": "15",
   "metadata": {},
   "source": [
    "### 2.3  What if we change markups?\n",
    "There are several parameters that govern the technology of the economy:\n",
    "- capital share: α = 0.318 \n",
    "- depreciation rate: δ_0 = (0.07 + 0.016) / 4 \n",
    "- price markup: μ = 1.1 \n",
    "- price adjustment costs (in terms of Calvo probs.): κ = 0.1456082664986374 \n",
    "- wage markup: μw = 1.1 \n",
    "- wage adjustment costs (in terms of Calvo probs.): κw = 0.23931075416274708 \n",
    "$~~~~$\n",
    "\n",
    "Below, we are going to see what happens in the model if you increase the **wage markup** by 50\\% and then decrease by 50\\% from baseline (from `1.1` to `1.65` to `0.55`).\n"
   ]
  },
  {
   "cell_type": "code",
   "execution_count": null,
   "id": "16",
   "metadata": {},
   "outputs": [],
   "source": [
    "# Running the different scenarios\n",
    "@set! m_par.μw = 1.65\n",
    "ss_dict[\"50p Increase in Markups\"] = call_find_steadystate(m_par);\n",
    "\n",
    "@set! m_par.μw = 0.55\n",
    "ss_dict[\"50p Decrease in Markups\"] = call_find_steadystate(m_par);"
   ]
  },
  {
   "cell_type": "code",
   "execution_count": null,
   "id": "17",
   "metadata": {},
   "outputs": [],
   "source": [
    "# Comparing all steady states now\n",
    "p1, p2, p3, p4 = plot_steady_state_comparisons(sort(ss_dict), income_grid, liquid_grid, illiquid_grid)\n",
    "\n",
    "display(plot(p2))\n",
    "display(plot(p3))\n",
    "display(plot(p4))"
   ]
  },
  {
   "cell_type": "markdown",
   "id": "18",
   "metadata": {},
   "source": [
    "# 3 Model Intuition"
   ]
  },
  {
   "cell_type": "markdown",
   "id": "19",
   "metadata": {},
   "source": [
    "### What if household preferences change?\n",
    "$~$\n",
    "#### **Model intution**\n",
    "The risk aversion parameter ($\\xi$) determines how households value consumption variability, directly influencing their precautionary savings behavior. Higher $\\xi$ implies greater aversion to risk, making households prioritize smoothing consumption over time and across uncertain income states. This induces households to increase their liquid asset holdings, which are more accessible during shocks, but also increase their illiquid asset holdings. The increase in asset position can be observed above, with liquid and illiquid assets (on average) being greater relative to baseline. In economic terms, higher risk aversion enhances precautionary motives, shifting liquid and illiquid asset distributions to the right. These shifts reflect households' preference for any kind of savings as a buffer against uncertainty. **As an exercise**, one could see whether responses are linear in the parameters i.e., would studying a $25\\%$ increase risk aversion elicit the same responses in liquid and illiquid assets as a $50\\%$ increase, just divided by 2? Will households accumulate liquid assets and decumulate illiquid assets? Is this co-movement in assets robust across all parametizations?\n",
    "\n",
    "$~~$\n",
    "\n",
    "#### **Functions involved**\n",
    "The first key function influenced by $\\xi$ is the utility function of the households $u(c) = \\frac{c^{1-\\xi}}{1-\\xi} $, which reflects the standard constant relative risk aversion (CRRA) specification. Here, $\\xi$ represents the coefficient of relative risk aversion.\n",
    "\n",
    "The second key function will be used when solving the household problem. We use the Endogenous Grid Method (EGM) to solve the household problem, which leverages the first-order conditions of the problem and Euler equations to determine optimal choices. Here, $\\xi$ affects the marginal utility of consumption, which directly depends on ξ, affecting the household's intertemporal trade-offs between current and future consumption. Specifically, `EGM_policyupdate` determines optimal consumption and savings policies, influenced by the marginal utility of consumption $u'(c) = c^{-\\xi}$. Changes in these policies will ultimately affect the steady-state asset distributions (`distrSS`).\n"
   ]
  },
  {
   "cell_type": "markdown",
   "id": "20",
   "metadata": {},
   "source": [
    "### What if income were less persistent?\n",
    "$~$\n",
    "#### **Model Intuition**\n",
    "\n",
    "The autocorrelation parameter of the income process ($\\rho_h $) determines the persistence of idiosyncratic income changes over time. A higher  $\\rho_h$ implies that income is more persistent, meaning a positive or negative shock to income is likely to have long-lasting effects. This alters households’ expectations about future income, reducing the need for precautionary savings when $\\rho_h$ increases, as households expect a more predictable income trajectory. Conversely, lower $\\rho_h$ (less persistence) increases uncertainty, but what does the degree of lesser persistence mean for wealth accumulation? A $25\\%$ decrease in $\\rho_h$ shrunk both the liquid and illiquid assets distribution to around zero, implying households are beginning to pay the cost of greater uncertainty. A $50\\%$ decrease, however, introduces greater income uncertainty, which implies even greater shrinkage in assets. One could mess around with the standard deviation of the income shocks to see its transmission on asset holdings. \n",
    "\n",
    "$~~$\n",
    "\n",
    "#### **Functions Involved**\n",
    "\n",
    "The parameter $\\rho_h$ affects the income process, specifically the transition matrix for income states (`n_par.Π`), under the functions `Fsys` and `VFI`. This matrix is calculated using functions like `ExTransition`, which calculates a transition probability matrix for a discretized stochastic income process, similar to the widely used Tauchen method for approximating an AR(1). Of course, the income process of households has implications for their consumption and savings decisions and thus, all functions related to solving the household problem (as mentioned above) apply.\n"
   ]
  },
  {
   "cell_type": "markdown",
   "id": "21",
   "metadata": {},
   "source": [
    "### What if there is a change in wage markups?\n",
    "$~$\n",
    "#### **Model Intuition**\n",
    "The wage markup ($\\mu_w$) determines the degree of market power that workers have in setting wages above the competitive level. Increasing $\\mu_w$ by 50% (to 1.65) implies workers can extract higher wages relative to their productivity, increasing labor costs for firms. Firms will most likely respond by reducing employment (depending on the persistence of wage markup). This reduces household disposable income for saving, leading to liquid and illiquid asset distributions around zero. Conversely, decreasing $\\mu_w$ by 50% (to 0.55) reduces wage-setting power, making labor cheaper and encouraging higher employment. This increases household income and saving capacity, shifting the asset distributions outward, but only slightly. The baseline appears to grant greater capacity for household saving.\n",
    "\n",
    "$~~$\n",
    "\n",
    "#### **Functions Involved**\n",
    "\n",
    "The parameter $\\mu_w$ appears in wage-setting equations, for example: the Wage Phillips curve\n",
    "$$\n",
    "\\begin{align}\n",
    "    \\log \\pi_{w,t} - \\pi_w = \\kappa_w \\left(mc_{w,t} - \\frac{1}{\\mu_w} \\right) + \\beta \\left(( \\log \\pi_{w,t+1} - \\pi_w) \\frac{N_{t+1} w_{t+1}}{N_t w_t} \\right)\n",
    "\\end{align}\n",
    "$$ \n",
    "$\\mu_w$ also affects union profits (`profits_U`), which are calculated in functions like `incomes_net` and `wage`. Changes in $\\mu_w $ directly impact the steady-state income distribution (`distrSS`) and marginal utility of consumption via the disposable income households receive. These adjustments flow through the Endogenous Grid Method (`EGM_policyupdate`) as already aforementioned, altering optimal consumption and savings decisions. \n"
   ]
  }
 ],
 "metadata": {
  "kernelspec": {
   "display_name": "Julia 1.10.3",
   "language": "julia",
   "name": "julia-1.10"
  },
  "language_info": {
   "file_extension": ".jl",
   "mimetype": "application/julia",
   "name": "julia",
   "version": "1.10.3"
  }
 },
 "nbformat": 4,
 "nbformat_minor": 5
}
